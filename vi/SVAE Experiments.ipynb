{
 "cells": [
  {
   "cell_type": "code",
   "execution_count": 1,
   "metadata": {},
   "outputs": [],
   "source": [
    "import numpy as np\n",
    "import matplotlib.pyplot as plt\n",
    "import seaborn as sns; sns.set_style('white')\n",
    "import tensorflow as tf\n",
    "from tqdm import trange\n",
    "\n",
    "from deepx import T\n",
    "from deepx.nn import Relu\n",
    "from deepx.stats import Gaussian, Dirichlet, NIW, Categorical, kl_divergence\n",
    "from activations import Gaussian as GaussianLayer"
   ]
  },
  {
   "cell_type": "code",
   "execution_count": 57,
   "metadata": {
    "collapsed": true
   },
   "outputs": [],
   "source": [
    "seed = 2\n",
    "K = 2\n",
    "N = 1000\n",
    "D = 2\n",
    "L = 2\n",
    "\n",
    "a = 100.\n",
    "s0 = 50.\n",
    "s = 1."
   ]
  },
  {
   "cell_type": "code",
   "execution_count": 58,
   "metadata": {
    "collapsed": true
   },
   "outputs": [],
   "source": [
    "def generate_data(N, D, K, sigma0=10, sigma=1, seed=None, alpha=100):\n",
    "    pi = np.random.dirichlet([a] * K)\n",
    "    X = np.zeros((N, D))\n",
    "    mu, sigma = np.random.multivariate_normal(mean=np.zeros(D), cov=np.eye(D) * sigma0, size=[K]), np.tile(np.eye(D)[None] * sigma, [K, 1, 1])\n",
    "    for i in range(N):\n",
    "        z = np.random.choice(K, p=pi)\n",
    "        X[i] = np.random.multivariate_normal(mean=mu[z], cov=sigma[z])\n",
    "    return X.astype(np.float32)"
   ]
  },
  {
   "cell_type": "code",
   "execution_count": 59,
   "metadata": {},
   "outputs": [
    {
     "data": {
      "image/png": "[encoded data removed]",
      "text/plain": [
       "<matplotlib.figure.Figure at 0x7fb3283d9860>"
      ]
     },
     "metadata": {},
     "output_type": "display_data"
    }
   ],
   "source": [
    "np.random.seed(seed)\n",
    "X = generate_data(N, D, K, sigma0=s0, sigma=s)\n",
    "plt.scatter(*X.T)\n",
    "plt.show()"
   ]
  },
  {
   "cell_type": "markdown",
   "metadata": {},
   "source": [
    "# Prior description"
   ]
  },
  {
   "cell_type": "code",
   "execution_count": 61,
   "metadata": {},
   "outputs": [],
   "source": [
    "p_pi = Dirichlet(T.constant([a] * K))\n",
    "p_theta = NIW(list(map(lambda x: T.constant(np.array(x).astype(T.floatx())), [np.eye(D) * sigma, np.zeros(D), 1, D + 1])))"
   ]
  },
  {
   "cell_type": "markdown",
   "metadata": {},
   "source": [
    "# Global variational distributions"
   ]
  },
  {
   "cell_type": "code",
   "execution_count": 62,
   "metadata": {
    "collapsed": true
   },
   "outputs": [],
   "source": [
    "def make_variable(dist):\n",
    "    return dist.__class__(T.variable(dist.get_parameters('natural')), parameter_type='natural')\n",
    "q_pi = make_variable(Dirichlet(np.ones([K], dtype=T.floatx())))\n",
    "q_theta = make_variable(NIW(map(lambda x: np.array(x).astype(T.floatx()), [np.tile(np.eye(D)[None] * 100, [K, 1, 1]), np.random.multivariate_normal(mean=np.zeros([D]), cov=np.eye(D) * 20, size=[K]), np.ones(K), np.ones(K) * (D + 1)])))\n",
    "\n",
    "sigma, mu = Gaussian(q_theta.expected_sufficient_statistics(), parameter_type='natural').get_parameters('regular')\n",
    "alpha = Categorical(q_pi.expected_sufficient_statistics(), parameter_type='natural').get_parameters('regular')"
   ]
  },
  {
   "cell_type": "markdown",
   "metadata": {},
   "source": [
    "# Neural networks"
   ]
  },
  {
   "cell_type": "code",
   "execution_count": 63,
   "metadata": {},
   "outputs": [],
   "source": [
    "with T.initialization('xavier'):\n",
    "    obs_net = lambda y: Gaussian([T.eye(D, batch_shape=T.shape(y)[:-1]), y])#Relu(L, 20) >> Relu(20) >> GaussianLayer(D)\n",
    "    rec_net = Relu(D, 20) >> Relu(20) >> GaussianLayer(L)\n",
    "rec_net.initialize()"
   ]
  },
  {
   "cell_type": "markdown",
   "metadata": {},
   "source": [
    "# Setting up variables"
   ]
  },
  {
   "cell_type": "code",
   "execution_count": 64,
   "metadata": {},
   "outputs": [],
   "source": [
    "y = T.matrix()\n",
    "batch_size = T.shape(y)[0]\n",
    "y_out = rec_net(y)\n",
    "num_batches = N / T.to_float(batch_size)"
   ]
  },
  {
   "cell_type": "markdown",
   "metadata": {},
   "source": [
    "# Indirect amortization"
   ]
  },
  {
   "cell_type": "code",
   "execution_count": 65,
   "metadata": {},
   "outputs": [],
   "source": [
    "def indirect_meanfield(local_kl, tol=1e-7, max_iter=1000):\n",
    "    z_stats = Categorical(Dirichlet([10.0] * K).sample(batch_size)).expected_sufficient_statistics()\n",
    "    \n",
    "    y_stats = y_out.get_parameters('natural')\n",
    "    theta_stats = q_theta.expected_sufficient_statistics()\n",
    "    i = T.constant(0)\n",
    "\n",
    "    def meanfield_condition(i, _, curr_kl, prev_kl):\n",
    "        return T.logical_and(i < max_iter, T.abs(curr_kl - prev_kl) > tol)\n",
    "    \n",
    "    def meanfield_loop(i, z_stats, curr_kl, prev_kl):\n",
    "        expected_x = T.einsum('ik,kab->iab', z_stats, theta_stats)\n",
    "        next_x = y_stats + expected_x\n",
    "        p_x = Gaussian(expected_x, parameter_type='natural')\n",
    "        q_x = Gaussian(next_x, parameter_type='natural')\n",
    "        kl = T.sum(kl_divergence(q_x, p_x))\n",
    "        \n",
    "        expected_z = T.einsum('iab,jab->ij', q_x.expected_sufficient_statistics(), theta_stats)\n",
    "        parent_z = p_pi.expected_sufficient_statistics()[None]\n",
    "        q_z = Categorical(expected_z - T.logsumexp(expected_z, -1)[..., None], parameter_type='natural')\n",
    "        p_z = Categorical(parent_z - T.logsumexp(parent_z, -1), parameter_type='natural')\n",
    "        kl += T.sum(kl_divergence(q_z, p_z))\n",
    "        return i + 1, q_z.expected_sufficient_statistics(), kl, curr_kl\n",
    "        \n",
    "    _, z_stats, _, _ = T.while_loop(\n",
    "        meanfield_condition,\n",
    "        meanfield_loop,\n",
    "        [i, z_stats, T.to_float(float('inf')), T.constant(0.0)],\n",
    "    )\n",
    "   \n",
    "    q_z = Categorical(z_stats, parameter_type='natural')\n",
    "    \n",
    "    expected_x = T.einsum('ik,kab->iab', z_stats, theta_stats)\n",
    "    next_x = y_stats + expected_x\n",
    "    q_x = Gaussian(next_x, parameter_type='natural')\n",
    "    \n",
    "    return q_x, q_z, local_kl(q_x, q_z)"
   ]
  },
  {
   "cell_type": "markdown",
   "metadata": {},
   "source": [
    "# Direct amortization"
   ]
  },
  {
   "cell_type": "code",
   "execution_count": 66,
   "metadata": {
    "collapsed": true
   },
   "outputs": [],
   "source": [
    "def direct_meanfield(local_kl):\n",
    "\n",
    "    y_stats = y_out.get_parameters('natural')\n",
    "    theta_stats = q_theta.expected_sufficient_statistics()\n",
    "    \n",
    "    next_x = y_stats\n",
    "    q_x = Gaussian(next_x, parameter_type='natural')\n",
    "    \n",
    "    expected_z = T.einsum('iab,jab->ij', q_x.expected_sufficient_statistics(), theta_stats)\n",
    "    parent_z = p_pi.expected_sufficient_statistics()[None]\n",
    "    q_z = Categorical(expected_z - T.logsumexp(expected_z, -1)[..., None], parameter_type='natural')\n",
    "    return q_x, q_z, local_kl(q_x, q_z)"
   ]
  },
  {
   "cell_type": "markdown",
   "metadata": {},
   "source": [
    "# Normal gradients"
   ]
  },
  {
   "cell_type": "code",
   "execution_count": 67,
   "metadata": {},
   "outputs": [],
   "source": [
    "def normal_kl(q_x, q_z):\n",
    "    theta_stats = q_theta.expected_sufficient_statistics()\n",
    "    z_stats = q_z.expected_sufficient_statistics()\n",
    "    p_x = Gaussian(T.einsum('ik,kab->iab', z_stats, theta_stats), parameter_type='natural')\n",
    "    kl = T.sum(kl_divergence(q_x, p_x))\n",
    "    expected_z = T.einsum('iab,jab->ij', q_x.expected_sufficient_statistics(), theta_stats)\n",
    "    parent_z = p_pi.expected_sufficient_statistics()[None]\n",
    "    p_z = Categorical(parent_z - T.logsumexp(parent_z, -1), parameter_type='natural')\n",
    "    kl += T.sum(kl_divergence(q_z, p_z))\n",
    "    return kl\n",
    "\n",
    "def svae(inference_type, kl_type):\n",
    "    kl = normal_kl if kl_type == 'normal' else blah\n",
    "    q_x, q_z, local_kl = direct_meanfield(kl) if inference_type == 'direct' else indirect_meanfield(kl)\n",
    "    global_kl = T.sum(kl_divergence(q_theta, p_theta) + kl_divergence(q_pi, p_pi))\n",
    "    x_samples = q_x.sample()[:, 0]\n",
    "    p_y = obs_net(x_samples)\n",
    "    num_datapoints = T.to_float(N)\n",
    "    ll = T.sum(p_y.log_likelihood(y))\n",
    "    elbo = (num_batches * (ll - local_kl)\n",
    "               - global_kl\n",
    "            ) / num_datapoints\n",
    "    return q_x, q_z, elbo\n",
    "\n",
    "def natural_gradient(q_x, q_z, nat_scale=1.0):\n",
    "    x_message = Gaussian.unpack(q_x.expected_sufficient_statistics())\n",
    "    x_stats = NIW.pack([\n",
    "        x_message[0],\n",
    "        x_message[1],\n",
    "        T.ones([batch_size]),\n",
    "        T.ones([batch_size]),\n",
    "    ])\n",
    "    z_stats = q_z.expected_sufficient_statistics()\n",
    "    \n",
    "    theta_stats = T.einsum('ia,ibc->abc', z_stats, x_stats)\n",
    "    parent_theta = p_theta.get_parameters('natural')[None]\n",
    "    current_theta = q_theta.get_parameters('natural')\n",
    "    theta_gradient = nat_scale / N * (parent_theta + num_batches * theta_stats - current_theta)\n",
    "    \n",
    "    pi_stats = T.sum(z_stats, 0)\n",
    "    parent_pi = p_pi.get_parameters('natural')\n",
    "    current_pi = p_pi.get_parameters('natural')\n",
    "    pi_gradient = nat_scale / N * (parent_pi + num_batches * pi_stats - current_pi)\n",
    "    return theta_gradient, pi_gradient\n",
    "\n",
    "def get_op(svae):\n",
    "    q_x, q_z, elbo = svae()\n",
    "    natgrads = zip(natural_gradient(q_x, q_z), [q_theta.get_parameters('natural'), q_pi.get_parameters('natural')])\n",
    "    nat_op = tf.train.MomentumOptimizer(1e-1, 0.1).apply_gradients([(-a, b) for a, b in natgrads])\n",
    "    grad_op = tf.train.AdamOptimizer(1e-3).minimize(-elbo, var_list=rec_net.get_parameters())\n",
    "    return tf.group(grad_op, nat_op), {'elbo': elbo }\n",
    "    \n",
    "def train(sess, train_op, info, num_iters=1, batch_size=20):\n",
    "    elbos = []\n",
    "    for i in trange(num_iters):\n",
    "        batch_idx = np.random.permutation(N)[:batch_size]\n",
    "        _, e = sess.run([train_op, info['elbo']], {y:X[batch_idx]})\n",
    "        elbos.append(e)\n",
    "    return elbos"
   ]
  },
  {
   "cell_type": "markdown",
   "metadata": {},
   "source": [
    "# Helper functions"
   ]
  },
  {
   "cell_type": "code",
   "execution_count": 68,
   "metadata": {
    "collapsed": true
   },
   "outputs": [],
   "source": [
    "def plot_ellipse(alpha, mean, cov, line=None):\n",
    "    t = np.linspace(0, 2*np.pi, 100) % (2*np.pi)\n",
    "    circle = np.vstack((np.sin(t), np.cos(t)))\n",
    "    ellipse = 2.*np.dot(np.linalg.cholesky(cov), circle) + mean[:,None]\n",
    "    if line:\n",
    "        line.set_data(ellipse)\n",
    "        line.set_alpha(alpha)\n",
    "    else:\n",
    "        plt.plot(ellipse[0], ellipse[1], linestyle='-', linewidth=2)\n",
    "        \n",
    "def draw(sess):\n",
    "    mean, cov, a = sess.run([mu, sigma, alpha])\n",
    "    plt.scatter(*X.T, s=1)\n",
    "    for k in range(K):\n",
    "        plot_ellipse(a[k], mean[k], cov[k])"
   ]
  },
  {
   "cell_type": "code",
   "execution_count": 69,
   "metadata": {},
   "outputs": [],
   "source": [
    "op, info = get_op(lambda: svae('direct', 'normal'))"
   ]
  },
  {
   "cell_type": "code",
   "execution_count": 70,
   "metadata": {
    "collapsed": true
   },
   "outputs": [],
   "source": [
    "sess = T.interactive_session()\n",
    "elbos = []"
   ]
  },
  {
   "cell_type": "code",
   "execution_count": null,
   "metadata": {},
   "outputs": [
    {
     "name": "stderr",
     "output_type": "stream",
     "text": [
      " 23%|██▎       | 228/1000 [00:00<00:01, 530.84it/s]"
     ]
    }
   ],
   "source": [
    "elbos.extend(train(sess, op, info, 1000, batch_size=20))\n",
    "draw(sess)\n",
    "plt.figure()\n",
    "plt.plot(elbos)\n",
    "plt.show()"
   ]
  },
  {
   "cell_type": "code",
   "execution_count": 56,
   "metadata": {},
   "outputs": [
    {
     "data": {
      "text/plain": [
       "1.0"
      ]
     },
     "execution_count": 56,
     "metadata": {},
     "output_type": "execute_result"
    }
   ],
   "source": []
  }
 ],
 "metadata": {
  "kernelspec": {
   "display_name": "Python 3",
   "language": "python",
   "name": "python3"
  }
 },
 "nbformat": 4,
 "nbformat_minor": 2
}
